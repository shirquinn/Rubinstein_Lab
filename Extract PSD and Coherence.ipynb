{
 "cells": [
  {
   "cell_type": "markdown",
   "id": "44cb04ca",
   "metadata": {},
   "source": [
    "This code extracts power spectral density parameters and coherence for txt files exported from Labchart. <br>\n",
    "The text files should contain:\n",
    "seconds,SomL-Cer(or any left sided electrode), SomR-Cer(or any right sided electrode), EMG\n",
    "The text file should be called : <br>\n",
    "'Subject ID' + block + number of block.<br>\n",
    "for example, if i have a recording block pre drug administrantion and a recording block post drug administration, it will be called:<br>\n",
    "DS_1445 block1 (for pre drug administration) <br>\n",
    "DS_1445 block2 (for post drug administration)<br>"
   ]
  },
  {
   "cell_type": "markdown",
   "id": "72860189",
   "metadata": {},
   "source": [
    "### import dependencies"
   ]
  },
  {
   "cell_type": "code",
   "execution_count": null,
   "id": "ca79481e",
   "metadata": {},
   "outputs": [],
   "source": [
    "#from ipynb.fs.full.PSD_COH_functions import *\n",
    "%run F:\\coherence\\code\\exctract_PSD_and_COH\\PSD_COH_functions.ipynb ##### write path to PSD_COH_functions.ipynb file here!!!\n",
    "\n",
    "%matplotlib inline\n"
   ]
  },
  {
   "cell_type": "markdown",
   "id": "4a8ce073",
   "metadata": {},
   "source": [
    "### dialog box"
   ]
  },
  {
   "cell_type": "code",
   "execution_count": null,
   "id": "af6bdcb4",
   "metadata": {},
   "outputs": [],
   "source": [
    "dialog_box()\n",
    "all_files_raw_path = Path(all_files_raw_path)\n",
    "movies_folder = Path(movies_folder)\n",
    "all_files_raw = all_files_raw_path.glob('*.txt')\n",
    "sec = int(ep_len)\n",
    "threshold_multiplication_emg = float(emg_multiplication)\n",
    "num_drugs = drugs_num"
   ]
  },
  {
   "cell_type": "markdown",
   "id": "8fdb4631",
   "metadata": {},
   "source": [
    "### run code"
   ]
  },
  {
   "cell_type": "code",
   "execution_count": null,
   "id": "5e57ad0c",
   "metadata": {
    "scrolled": false
   },
   "outputs": [],
   "source": [
    "reports,dirname,epoch_spectrals,epochs_PSD = get_excels(all_files_raw)"
   ]
  },
  {
   "cell_type": "markdown",
   "id": "1f33a541",
   "metadata": {},
   "source": [
    "### save excel files"
   ]
  },
  {
   "cell_type": "code",
   "execution_count": null,
   "id": "2c20aa3f",
   "metadata": {
    "scrolled": true
   },
   "outputs": [],
   "source": [
    "save_excel_files(reports,dirname,epoch_spectrals,epochs_PSD,num_drugs)"
   ]
  }
 ],
 "metadata": {
  "kernelspec": {
   "display_name": "Python 3 (ipykernel)",
   "language": "python",
   "name": "python3"
  },
  "language_info": {
   "codemirror_mode": {
    "name": "ipython",
    "version": 3
   },
   "file_extension": ".py",
   "mimetype": "text/x-python",
   "name": "python",
   "nbconvert_exporter": "python",
   "pygments_lexer": "ipython3",
   "version": "3.9.13"
  }
 },
 "nbformat": 4,
 "nbformat_minor": 5
}
