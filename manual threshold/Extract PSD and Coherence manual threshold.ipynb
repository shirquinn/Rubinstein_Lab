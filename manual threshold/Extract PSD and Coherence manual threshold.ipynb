{
 "cells": [
  {
   "cell_type": "markdown",
   "id": "72860189",
   "metadata": {},
   "source": [
    "### import dependencies"
   ]
  },
  {
   "cell_type": "code",
   "execution_count": null,
   "id": "ca79481e",
   "metadata": {},
   "outputs": [],
   "source": [
    "%run \"C:\\Users\\Visual\\Dravet lab Dropbox\\dravet dravet\\Rubinstein Lab\\Shir Quinn\\AEDs in Dravet\\Code\\PSD_COH_functions_manual_threshold.ipynb\" ##### write path to PSD_COH_functions.ipynb file here!!!\n",
    "\n",
    "%matplotlib inline\n",
    "\n"
   ]
  },
  {
   "cell_type": "markdown",
   "id": "4a8ce073",
   "metadata": {},
   "source": [
    "### dialog box"
   ]
  },
  {
   "cell_type": "code",
   "execution_count": null,
   "id": "af6bdcb4",
   "metadata": {},
   "outputs": [],
   "source": [
    "dialog_box()\n",
    "all_files_raw_path = Path(all_files_raw_path)\n",
    "movies_folder = Path(movies_folder)\n",
    "all_files_raw = all_files_raw_path.glob('*.txt')\n",
    "sec = int(ep_len)\n",
    "#threshold_multiplication_emg = float(emg_multiplication)\n",
    "num_drugs = drugs_num"
   ]
  },
  {
   "cell_type": "markdown",
   "id": "8fdb4631",
   "metadata": {},
   "source": [
    "### run code"
   ]
  },
  {
   "cell_type": "code",
   "execution_count": null,
   "id": "5e57ad0c",
   "metadata": {
    "scrolled": false
   },
   "outputs": [],
   "source": [
    "reports,dirname,epoch_spectrals,epochs_PSD = get_excels(all_files_raw)"
   ]
  },
  {
   "cell_type": "markdown",
   "id": "1f33a541",
   "metadata": {},
   "source": [
    "### save excel files"
   ]
  },
  {
   "cell_type": "code",
   "execution_count": null,
   "id": "2c20aa3f",
   "metadata": {
    "scrolled": true
   },
   "outputs": [],
   "source": [
    "save_excel_files(reports,dirname,epoch_spectrals,epochs_PSD,num_drugs)"
   ]
  },
  {
   "cell_type": "code",
   "execution_count": null,
   "id": "bdf8acd6",
   "metadata": {},
   "outputs": [],
   "source": []
  }
 ],
 "metadata": {
  "kernelspec": {
   "display_name": "Python 3 (ipykernel)",
   "language": "python",
   "name": "python3"
  },
  "language_info": {
   "codemirror_mode": {
    "name": "ipython",
    "version": 3
   },
   "file_extension": ".py",
   "mimetype": "text/x-python",
   "name": "python",
   "nbconvert_exporter": "python",
   "pygments_lexer": "ipython3",
   "version": "3.9.15"
  }
 },
 "nbformat": 4,
 "nbformat_minor": 5
}
